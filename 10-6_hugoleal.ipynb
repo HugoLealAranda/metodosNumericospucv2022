{
 "cells": [
  {
   "cell_type": "code",
   "execution_count": 3,
   "metadata": {},
   "outputs": [
    {
     "data": {
      "text/plain": [
       "3.625"
      ]
     },
     "execution_count": 3,
     "metadata": {},
     "output_type": "execute_result"
    }
   ],
   "source": [
    "#primero definimos la funcion interpolante de taylor en su segundo orden\n",
    "def interpolacionTaylorSegundoOrden(x, y, x0):\n",
    "   h = x[1] - x[0]  # Paso\n",
    "   x_i = x[0] \n",
    "   return y[0] + (x0 - x_i) * (y[1] - y[0]) / h\n",
    "\n",
    "#Esta se debe cambiar para convertir el código en una función interpolante de Hermite. Para lograr esto se necesitan conocer otros valores, y que serían: \n",
    "#1. Las derivadas de los datos que se quieren interpolar (en este caso en los puntos x[0] y x[1]) \n",
    "#2. El valor donde se quiere conocer la aproximación.\n",
    "\n",
    "#Notemos que la ecuación de Hermite está dada por: \n",
    "\n",
    "#P(x)=f(x0)+f'(x0)(x-x0)+f\"(x0)((x-x0)^2)/2\n",
    "\n",
    "#Con esto en mente se puede llenar los valores para la interpolación. Primero debemos calcular los atributos necesarios para conocer la ecuación.\n",
    "\n",
    "def interpolacionHermite(x, y, yprim, x0):  \n",
    "   h = x[1] - x[0] \n",
    "   x_i = x[0] \n",
    "   derivada_x_i=yprim[0]\n",
    "   derivada_x_i1=yprim[1]\n",
    "   return y[0]+derivada_x_i*(x0-x_i)+ (derivada_x_i1-derivada_x_i)*((x0-x_i)**2)/(2*h)\n",
    "\n",
    "#Para probar el código, consideremos los siguientes ejemplos:\n",
    "\n",
    "x = [2, 3]\n",
    "y = [2, 3]\n",
    "yprim = [3, 4]\n",
    "x0 = 2.5\n",
    "\n",
    "interpolacionHermite(x, y, yprim, x0)\n",
    "\n",
    "#De esta forma utilizando los valores proporcionados, obtenemos un resultado de 3.625. \n",
    "#Por lo tanto podemos decir que la función interpolante de Hermite se ha modificado exitosamente."
   ]
  }
 ],
 "metadata": {
  "kernelspec": {
   "display_name": "Python 3.10.8 64-bit (microsoft store)",
   "language": "python",
   "name": "python3"
  },
  "language_info": {
   "codemirror_mode": {
    "name": "ipython",
    "version": 3
   },
   "file_extension": ".py",
   "mimetype": "text/x-python",
   "name": "python",
   "nbconvert_exporter": "python",
   "pygments_lexer": "ipython3",
   "version": "3.10.9"
  },
  "orig_nbformat": 4,
  "vscode": {
   "interpreter": {
    "hash": "a9dec94f1f8fd64a2a7e9091a4d23abfc42bf50116f37fead77524e004af2bb1"
   }
  }
 },
 "nbformat": 4,
 "nbformat_minor": 2
}
