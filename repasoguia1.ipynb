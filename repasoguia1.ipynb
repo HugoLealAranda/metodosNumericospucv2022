{
 "cells": [
  {
   "cell_type": "code",
   "execution_count": 1,
   "metadata": {},
   "outputs": [
    {
     "name": "stdout",
     "output_type": "stream",
     "text": [
      "1.0\n"
     ]
    }
   ],
   "source": [
    "#Tarea 1.1\n",
    "#Modifique el siguiente código para que no saque un error\n",
    "\n",
    "def fun(n):\n",
    "    return 1/(n+1) # se redefine la funcion para evitar la division por 0\n",
    "    \n",
    "print(fun(0))"
   ]
  },
  {
   "cell_type": "code",
   "execution_count": 2,
   "metadata": {},
   "outputs": [
    {
     "name": "stdout",
     "output_type": "stream",
     "text": [
      "2\n"
     ]
    }
   ],
   "source": [
    "\n",
    "#Tarea 1.2\n",
    "#Modifique el siguiente código para que no saque un error\n",
    "\n",
    "def fun(n):\n",
    "    return 1+n # se agrega la misma variable que se define arriba para que se pueda llamar sin problemas\n",
    "\n",
    "print(fun(1))"
   ]
  },
  {
   "cell_type": "code",
   "execution_count": 3,
   "metadata": {},
   "outputs": [
    {
     "name": "stdout",
     "output_type": "stream",
     "text": [
      "1\n"
     ]
    }
   ],
   "source": [
    "#Tarea 1.3\n",
    "#Corrija el siguiente código\n",
    "\n",
    "def fun(n):\n",
    "    return n #se remplaza la x por la n para que se pueda llamar la funcion sin error\n",
    "print(fun(1))"
   ]
  },
  {
   "cell_type": "code",
   "execution_count": 17,
   "metadata": {},
   "outputs": [
    {
     "name": "stdout",
     "output_type": "stream",
     "text": [
      "el resultado es 0.2222222222222222\n"
     ]
    }
   ],
   "source": [
    "#Tarea 1.4\n",
    "#Use Python para calcular lo siguiente:\n",
    "\n",
    "x=1\n",
    "y=2\n",
    "eq1=(2*x)/(3*(y+x))\n",
    "print(\"el resultado es\", eq1)"
   ]
  },
  {
   "cell_type": "code",
   "execution_count": 25,
   "metadata": {},
   "outputs": [
    {
     "name": "stdout",
     "output_type": "stream",
     "text": [
      "se quiere calcular la siguiente ecuacion: (2*x)/(3*(y+x))\n",
      "el resultado es 0.2222222222222222\n"
     ]
    }
   ],
   "source": [
    "#Tarea 1.41 **example\n",
    "#Use Python para calcular lo siguiente:\n",
    "print(\"se quiere calcular la siguiente ecuacion: (2*x)/(3*(y+x))\")\n",
    "x=int(input(\"ingrese el valor de x\"))\n",
    "y=int(input(\"ingrese el valor de y\"))\n",
    "eq1=(2*x)/(3*(y+x))\n",
    "print(\"el resultado es\", eq1)"
   ]
  },
  {
   "cell_type": "code",
   "execution_count": 16,
   "metadata": {},
   "outputs": [
    {
     "name": "stdout",
     "output_type": "stream",
     "text": [
      "el resultado de la ecuacion Eq(4*x + 2, 0) es [-1/2]\n"
     ]
    }
   ],
   "source": [
    "#Tarea 1.42 ** example ecuacion de prueba con sympy\n",
    "#Use Python para calcular lo siguiente:\n",
    "from sympy import symbols, Eq,solve #se usa la libreria sympy para resolver ecuaciones\n",
    "x=symbols('x') #se define la variable x con la letra que se usara\n",
    "eq1 = Eq(4*x+2,0) #se define la ecuacion 1\n",
    "print(\"el resultado de la ecuacion\", eq1,\"es\",solve(eq1)) #se le pide imprimir el resultado de la ecuacion 1"
   ]
  },
  {
   "cell_type": "code",
   "execution_count": 30,
   "metadata": {},
   "outputs": [
    {
     "name": "stdout",
     "output_type": "stream",
     "text": [
      "la velocidad con la que se lanza la pelota es de -5.196666666666666 metros por segundo\n"
     ]
    }
   ],
   "source": [
    "#Tarea 1.5\n",
    "#use Python como una calculadora para calcular cuál es la velocidad \n",
    "#inicial de una bola que cae una distancia de 2  metros en 0.3 segundos.\n",
    "\n",
    "#yf=y0+v0*tf+((1/2)*(g*(tf**2))) #definimos la ecuacion de movimiento en el eje y \n",
    "yf=0 #cuando la pelota llega al piso su posicion final en el eje y sera de 0 metros\n",
    "y0=2 #en metros  segun SI\n",
    "tf=0.3 #en segundos   segun SI\n",
    "g=-9.8 #metros/segundos cuadrado\n",
    "# si queremos obtener la velocidad inicial debemos despejar la variable v0\n",
    "v0=(yf-y0-((1/2)*(g*(tf**2))))/tf\n",
    "print(\"la velocidad con la que se lanza la pelota es de\", v0,\"metros por segundo\")"
   ]
  },
  {
   "cell_type": "code",
   "execution_count": 33,
   "metadata": {},
   "outputs": [
    {
     "name": "stdout",
     "output_type": "stream",
     "text": [
      "la velocidad con la que se lanza la pelota es de -399.902 metros por segundo. Recuerde que este resultado usa el sistema de referencia tradicional xy\n"
     ]
    }
   ],
   "source": [
    "#Tarea 1.51 ahora con input \n",
    "#use Python como una calculadora para calcular cuál es la velocidad \n",
    "#inicial de una bola que cae una distancia de 2  metros en 0.3 segundos.\n",
    "\n",
    "#yf=y0+v0*tf+((1/2)*(g*(tf**2))) #definimos la ecuacion de movimiento en el eje y \n",
    "yf=float(input(\"ingresa la posicion final de la pelota en el eje y, en metros.\"))\n",
    "y0=float(input(\"ingresa la posicion inicial de la pelota en el eje y, en metros.\"))\n",
    "tf=float(input(\"ingresa el tiempo que se demora en tocar el piso la pelota desde que se suelta, en segundos.\"))\n",
    "g=-9.8 #metros/segundos cuadrado\n",
    "# si queremos obtener la velocidad inicial debemos despejar la variable v0\n",
    "v0=(yf-y0-((1/2)*(g*(tf**2))))/tf\n",
    "print(\"la velocidad con la que se lanza la pelota es de\", v0,\"metros por segundo. Recuerde que este resultado usa el sistema de referencia tradicional xy\")"
   ]
  },
  {
   "cell_type": "markdown",
   "metadata": {},
   "source": []
  },
  {
   "cell_type": "code",
   "execution_count": 44,
   "metadata": {},
   "outputs": [
    {
     "name": "stdout",
     "output_type": "stream",
     "text": [
      "la suma total desde 0 a 100 es 5050\n",
      "la lista que se uso fue la siguiente\n",
      "[0, 1, 2, 3, 4, 5, 6, 7, 8, 9, 10, 11, 12, 13, 14, 15, 16, 17, 18, 19, 20, 21, 22, 23, 24, 25, 26, 27, 28, 29, 30, 31, 32, 33, 34, 35, 36, 37, 38, 39, 40, 41, 42, 43, 44, 45, 46, 47, 48, 49, 50, 51, 52, 53, 54, 55, 56, 57, 58, 59, 60, 61, 62, 63, 64, 65, 66, 67, 68, 69, 70, 71, 72, 73, 74, 75, 76, 77, 78, 79, 80, 81, 82, 83, 84, 85, 86, 87, 88, 89, 90, 91, 92, 93, 94, 95, 96, 97, 98, 99, 100]\n"
     ]
    }
   ],
   "source": [
    "\n",
    "#Tarea 1.6\n",
    "#Escriba un código que sume todos los números desde cero hasta 100.\n",
    "numeroinicial=0\n",
    "numerofinal=100 # seria nuestro contador\n",
    "total = sum(range(numeroinicial, numerofinal + 1)) #usamos range para crear la lista de numeros que queremos sumar, ponemos +1 para evitar que termine en 99\n",
    "print(\"la suma total desde 0 a 100 es\", total)  #  5050\n",
    "\n",
    "#  [0,1, 2, 3, ... 98, 99, 100]\n",
    "print(\"la lista que se uso fue la siguiente\")\n",
    "print(list(range(numeroinicial, numerofinal + 1)))"
   ]
  },
  {
   "cell_type": "code",
   "execution_count": 50,
   "metadata": {},
   "outputs": [
    {
     "name": "stdout",
     "output_type": "stream",
     "text": [
      "la suma total desde 5  a 200 es 20090\n",
      "la lista que se uso fue la siguiente\n",
      "[5, 6, 7, 8, 9, 10, 11, 12, 13, 14, 15, 16, 17, 18, 19, 20, 21, 22, 23, 24, 25, 26, 27, 28, 29, 30, 31, 32, 33, 34, 35, 36, 37, 38, 39, 40, 41, 42, 43, 44, 45, 46, 47, 48, 49, 50, 51, 52, 53, 54, 55, 56, 57, 58, 59, 60, 61, 62, 63, 64, 65, 66, 67, 68, 69, 70, 71, 72, 73, 74, 75, 76, 77, 78, 79, 80, 81, 82, 83, 84, 85, 86, 87, 88, 89, 90, 91, 92, 93, 94, 95, 96, 97, 98, 99, 100, 101, 102, 103, 104, 105, 106, 107, 108, 109, 110, 111, 112, 113, 114, 115, 116, 117, 118, 119, 120, 121, 122, 123, 124, 125, 126, 127, 128, 129, 130, 131, 132, 133, 134, 135, 136, 137, 138, 139, 140, 141, 142, 143, 144, 145, 146, 147, 148, 149, 150, 151, 152, 153, 154, 155, 156, 157, 158, 159, 160, 161, 162, 163, 164, 165, 166, 167, 168, 169, 170, 171, 172, 173, 174, 175, 176, 177, 178, 179, 180, 181, 182, 183, 184, 185, 186, 187, 188, 189, 190, 191, 192, 193, 194, 195, 196, 197, 198, 199, 200]\n"
     ]
    }
   ],
   "source": [
    "#Tarea 1.61 ahora lo mismo pero con input\n",
    "#Escriba un código que sume todos los números desde cero hasta 100.\n",
    "numeroinicial=int(input(\"ingresa el numero inicial para empezar a sumar\"))\n",
    "numerofinal=int(input(\"ingresa el numero final para terminar de sumar\"))\n",
    "total = sum(range(numeroinicial, numerofinal + 1)) #usamos range para crear la lista de numeros que queremos sumar, ponemos +1 para evitar que termine en 99\n",
    "print(\"la suma total desde\",numeroinicial,\" a\",numerofinal, \"es\", total)  #  5050\n",
    "\n",
    "#  [0,1, 2, 3, ... 98, 99, 100]\n",
    "print(\"la lista que se uso fue la siguiente\")\n",
    "print(list(range(numeroinicial, numerofinal + 1)))"
   ]
  },
  {
   "cell_type": "code",
   "execution_count": 46,
   "metadata": {},
   "outputs": [
    {
     "ename": "SyntaxError",
     "evalue": "invalid syntax (15193383.py, line 1)",
     "output_type": "error",
     "traceback": [
      "\u001b[0;36m  Input \u001b[0;32mIn [46]\u001b[0;36m\u001b[0m\n\u001b[0;31m    +\u001b[0m\n\u001b[0m     ^\u001b[0m\n\u001b[0;31mSyntaxError\u001b[0m\u001b[0;31m:\u001b[0m invalid syntax\n"
     ]
    }
   ],
   "source": []
  },
  {
   "cell_type": "code",
   "execution_count": null,
   "metadata": {},
   "outputs": [],
   "source": []
  }
 ],
 "metadata": {
  "kernelspec": {
   "display_name": "Python 3.10.6 64-bit",
   "language": "python",
   "name": "python3"
  },
  "language_info": {
   "codemirror_mode": {
    "name": "ipython",
    "version": 3
   },
   "file_extension": ".py",
   "mimetype": "text/x-python",
   "name": "python",
   "nbconvert_exporter": "python",
   "pygments_lexer": "ipython3",
   "version": "3.10.6"
  },
  "orig_nbformat": 4,
  "vscode": {
   "interpreter": {
    "hash": "b0fa6594d8f4cbf19f97940f81e996739fb7646882a419484c72d19e05852a7e"
   }
  }
 },
 "nbformat": 4,
 "nbformat_minor": 2
}
