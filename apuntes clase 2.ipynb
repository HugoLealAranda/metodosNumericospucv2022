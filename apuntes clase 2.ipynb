{
 "cells": [
  {
   "cell_type": "code",
   "execution_count": 3,
   "metadata": {},
   "outputs": [
    {
     "ename": "NameError",
     "evalue": "name 'y' is not defined",
     "output_type": "error",
     "traceback": [
      "\u001b[1;31m---------------------------------------------------------------------------\u001b[0m",
      "\u001b[1;31mNameError\u001b[0m                                 Traceback (most recent call last)",
      "\u001b[1;32mUntitled-1.ipynb Celda 1\u001b[0m in \u001b[0;36m<cell line: 1>\u001b[1;34m()\u001b[0m\n\u001b[1;32m----> <a href='vscode-notebook-cell:Untitled-1.ipynb?jupyter-notebook#W0sdW50aXRsZWQ%3D?line=0'>1</a>\u001b[0m y \u001b[39mor\u001b[39;00m y\n",
      "\u001b[1;31mNameError\u001b[0m: name 'y' is not defined"
     ]
    }
   ],
   "source": [
    "y or y \n"
   ]
  },
  {
   "cell_type": "code",
   "execution_count": 49,
   "metadata": {},
   "outputs": [
    {
     "data": {
      "text/plain": [
       "False"
      ]
     },
     "execution_count": 49,
     "metadata": {},
     "output_type": "execute_result"
    }
   ],
   "source": [
    "2 == 4"
   ]
  },
  {
   "cell_type": "code",
   "execution_count": 58,
   "metadata": {},
   "outputs": [
    {
     "name": "stdout",
     "output_type": "stream",
     "text": [
      "la distancia es:465000 metros\n"
     ]
    }
   ],
   "source": [
    "#velocidad en metros/segundos\n",
    "vel = 31000\n",
    "#tiempo en segundos\n",
    "t = 15\n",
    "\n",
    "#revisamos que la velocidad no sea demasiado grande\n",
    "if vel > 300000:\n",
    "    print(\"error: la velocidad no puede ser mayor que la de la luz\")\n",
    "elif vel > 300000:\n",
    "    print(\"advertencia: no se pueden ignorar correcciones relativistas\")\n",
    "    #calculamos la distancia\n",
    "else:\n",
    "    #calcular la distancia\n",
    "    dist= vel*t \n",
    "    print(f\"la distancia es:{dist} metros\")\n",
    "\n"
   ]
  },
  {
   "cell_type": "code",
   "execution_count": 20,
   "metadata": {},
   "outputs": [
    {
     "name": "stdout",
     "output_type": "stream",
     "text": [
      "1\n",
      "3\n",
      "5\n",
      "7\n",
      "9\n"
     ]
    }
   ],
   "source": [
    "for i in range(1,10,2):\n",
    "    print(i)\n"
   ]
  },
  {
   "cell_type": "code",
   "execution_count": 34,
   "metadata": {},
   "outputs": [
    {
     "name": "stdout",
     "output_type": "stream",
     "text": [
      "resultado final: 0.9999999990686774\n"
     ]
    }
   ],
   "source": [
    "#calculamos la paradoja de zenon\n",
    "\n",
    "\n",
    "max = int(input(\"n= \"))+1\n",
    "\n",
    "#acumulador, va teniendo el valor de la suma\n",
    "\n",
    "suma=0#esto se llama incializar el acumulador\n",
    "\n",
    "#hacemos la suma\n",
    "for n in range(1, max):\n",
    "#    suma = suma + 1/(2**n)\n",
    "    suma += 1/(2**n)\n",
    "print(\"resultado final:\", suma)\n"
   ]
  },
  {
   "cell_type": "code",
   "execution_count": 42,
   "metadata": {},
   "outputs": [
    {
     "name": "stdout",
     "output_type": "stream",
     "text": [
      "1\n",
      "2\n",
      "3\n",
      "4\n",
      "5\n",
      "6\n",
      "7\n",
      "8\n",
      "9\n",
      "10\n",
      "11\n",
      "12\n",
      "13\n",
      "14\n"
     ]
    }
   ],
   "source": [
    "#ciclo while\n",
    "\n",
    "x=1\n",
    "#while True:\n",
    "while x < 15:\n",
    "    print(x)\n",
    "    x += 1\n",
    "    if (x >= 10):\n",
    "        break\n",
    "\n"
   ]
  },
  {
   "cell_type": "code",
   "execution_count": 48,
   "metadata": {},
   "outputs": [
    {
     "name": "stdout",
     "output_type": "stream",
     "text": [
      "obtuvimos 0.992 luego de sumar 7 terminos\n"
     ]
    }
   ],
   "source": [
    "sum = 0 # acumulador\n",
    "i = 0 # contador o indicie de la suma\n",
    "error = 1 # error\n",
    "while error > 0.01:\n",
    "    i += 1\n",
    "    sum += 1/(2**i)\n",
    "    error = 1 - sum\n",
    "\n",
    "print(f\"obtuvimos {sum:.3} luego de sumar {i} terminos\")"
   ]
  }
 ],
 "metadata": {
  "kernelspec": {
   "display_name": "Python 3.10.6 64-bit (windows store)",
   "language": "python",
   "name": "python3"
  },
  "language_info": {
   "codemirror_mode": {
    "name": "ipython",
    "version": 3
   },
   "file_extension": ".py",
   "mimetype": "text/x-python",
   "name": "python",
   "nbconvert_exporter": "python",
   "pygments_lexer": "ipython3",
   "version": "3.10.6"
  },
  "orig_nbformat": 4,
  "vscode": {
   "interpreter": {
    "hash": "a9dec94f1f8fd64a2a7e9091a4d23abfc42bf50116f37fead77524e004af2bb1"
   }
  }
 },
 "nbformat": 4,
 "nbformat_minor": 2
}
