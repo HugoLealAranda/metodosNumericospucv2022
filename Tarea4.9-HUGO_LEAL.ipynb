{
 "cells": [
  {
   "cell_type": "code",
   "execution_count": 10,
   "metadata": {},
   "outputs": [
    {
     "ename": "IndentationError",
     "evalue": "unindent does not match any outer indentation level (<tokenize>, line 16)",
     "output_type": "error",
     "traceback": [
      "\u001b[1;36m  File \u001b[1;32m\"<tokenize>\"\u001b[1;36m, line \u001b[1;32m16\u001b[0m\n\u001b[1;33m    fp.close() #cerramos el archivo tareas.txt\u001b[0m\n\u001b[1;37m    ^\u001b[0m\n\u001b[1;31mIndentationError\u001b[0m\u001b[1;31m:\u001b[0m unindent does not match any outer indentation level\n"
     ]
    }
   ],
   "source": [
    "import random   #importamos libreria random a usar\n",
    "archivoEstudiante = open(\"/estudiantes.txt\", \"r\") # se abre archivo de estudiantes.txt para obtener sus datos\n",
    "A = [] #se crea una lista vacia A la cual llevara los nombres de los estudiantes\n",
    "L=[]  #se crea lista vacia L la cual llevara los numeros de ejercicios\n",
    "i=2  #valor de control para poder generar lista L\n",
    "for k in archivoEstudiante: #se crea ciclo para poder llenar las listas A y L, k corresponde a cada linea de nombres\n",
    "    A.append(k.strip()) #se agrega a la lista A la linea (que corresponde al nombre del alumno),se usa strip para eliminar el \\n\n",
    "    L.append(i//2)  #se agregan datos a la lista L, utilizando parte entera para poder generar el algoritmo deseado\n",
    "    i+=1 # se le suma 1 a i\n",
    "archivoEstudiante.close() #se cierra el archivo\n",
    "random.shuffle(L) #se randomiza la lista L\n",
    "with open(r'/tarea.txt', 'w') as fp: # se crea archivo tarea.txt \n",
    "    fp.write(f\"NOMBRE ALMUNO\\tNUMERO DE EJERCICIO\\n\\n\") #se escriben los titulos de las columnas\n",
    "    for j in range(20): #se crea ciclo para recorrer\n",
    "        fp.write(f\" {A[j]}:\\t{L[j]}\\n\") #se escribe en tareas.txt los elementos deseados recorriendo las listas se usa \\t y \\n para agregar tabulacion y agregar fila\n",
    "    fp.close() #cerramos el archivo tareas.txt"
   ]
  },
  {
   "cell_type": "markdown",
   "metadata": {},
   "source": [
    "# Calificacion: 5.5\n",
    "\n",
    "El codigo funciona bien pero por alguna razon estaba mal escrito, habia un problema de indentacion en la linea 16, tuve que cambiarlo yo para que funcione.\n",
    "\n",
    "A la hora de escribir el nombre de un archivo no lo escribas como \"/el_nombre\" pero eso lo considerara como una ruta relativa, si tienes los archivos dentro de tu carpeta donde corres el cuaderno de jupyter solo escribe \"el_nombre\" sin el \"/\". "
   ]
  }
 ],
 "metadata": {
  "kernelspec": {
   "display_name": "Python 3",
   "language": "python",
   "name": "python3"
  },
  "language_info": {
   "codemirror_mode": {
    "name": "ipython",
    "version": 3
   },
   "file_extension": ".py",
   "mimetype": "text/x-python",
   "name": "python",
   "nbconvert_exporter": "python",
   "pygments_lexer": "ipython3",
   "version": "3.8.3"
  },
  "toc": {
   "base_numbering": 1,
   "nav_menu": {},
   "number_sections": true,
   "sideBar": true,
   "skip_h1_title": false,
   "title_cell": "Table of Contents",
   "title_sidebar": "Contents",
   "toc_cell": false,
   "toc_position": {},
   "toc_section_display": true,
   "toc_window_display": false
  },
  "vscode": {
   "interpreter": {
    "hash": "31f2aee4e71d21fbe5cf8b01ff0e069b9275f58929596ceb00d14d90e3e16cd6"
   }
  }
 },
 "nbformat": 4,
 "nbformat_minor": 2
}
