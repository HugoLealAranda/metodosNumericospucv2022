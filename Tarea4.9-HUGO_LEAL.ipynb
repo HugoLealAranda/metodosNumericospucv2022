{
 "cells": [
  {
   "cell_type": "code",
   "execution_count": null,
   "metadata": {},
   "outputs": [],
   "source": [
    "import random   #importamos libreria random a usar\n",
    "archivoEstudiante = open(\"/users/hugoleal/darknet/estudiantes.txt\", \"r\") # se abre archivo de estudiantes.txt para obtener sus datos\n",
    "A = [] #se crea una lista vacia A la cual llevara los nombres de los estudiantes\n",
    "L=[]  #se crea lista vacia L la cual llevara los numeros de ejercicios\n",
    "i=2  #valor de control para poder generar lista L\n",
    "for k in archivoEstudiante: #se crea ciclo para poder llenar las listas A y L, k corresponde a cada linea de nombres\n",
    "    A.append(k.strip()) #se agrega a la lista A la linea (que corresponde al nombre del alumno),se usa strip para eliminar el \\n\n",
    "    L.append(i//2)  #se agregan datos a la lista L, utilizando parte entera para poder generar el algoritmo deseado\n",
    "    i+=1 # se le suma 1 a i\n",
    "archivoEstudiante.close() #se cierra el archivo\n",
    "random.shuffle(L) #se randomiza la lista L\n",
    "with open(r'/users/hugoleal/darknet/tarea.txt', 'w') as fp: # se crea archivo tareas.txt \n",
    "    fp.write(f\"NOMBRE ALMUNO\\tNUMERO DE EJERCICIO\\n\\n\") #se escriben los titulos de las columnas\n",
    "    for j in range(20): #se crea ciclo para recorrer\n",
    "        fp.write(f\" {A[j]}:\\t{L[j]}\\n\") #se escribe en tareas.txt los elementos deseados recorriendo las listas se usa \\t y \\n para agregar tabulacion y agregar fila\n",
    "    fp.close() #cerramos el archivo tareas.txt"
   ]
  }
 ],
 "metadata": {
  "kernelspec": {
   "display_name": "Python 3.8.2 64-bit",
   "language": "python",
   "name": "python3"
  },
  "language_info": {
   "name": "python",
   "version": "3.8.2"
  },
  "orig_nbformat": 4,
  "vscode": {
   "interpreter": {
    "hash": "31f2aee4e71d21fbe5cf8b01ff0e069b9275f58929596ceb00d14d90e3e16cd6"
   }
  }
 },
 "nbformat": 4,
 "nbformat_minor": 2
}
