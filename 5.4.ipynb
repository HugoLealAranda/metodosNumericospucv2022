{
 "cells": [
  {
   "cell_type": "markdown",
   "metadata": {},
   "source": [
    "$$\n",
    "TAREA-5.4\n",
    "$$"
   ]
  },
  {
   "cell_type": "code",
   "execution_count": 15,
   "metadata": {},
   "outputs": [
    {
     "name": "stdout",
     "output_type": "stream",
     "text": [
      "La probabilidad de que haya tenido la enfermedad es de: 42.86 %\n"
     ]
    }
   ],
   "source": [
    "probabilidadEnfermo=0.2\n",
    "probabilidadSano=0.8\n",
    "probabilidadFalso_enfermo=probabilidadSano*0.3\n",
    "probabilidadVerdadero_enfermo=probabilidadEnfermo*0.9\n",
    "probabilidadMancha_falso_enfermo=probabilidadFalso_enfermo*0.2\n",
    "probabilidadMancha_verdadero_enfermo=probabilidadVerdadero_enfermo*0.2\n",
    "chance=(probabilidadMancha_verdadero_enfermo/(probabilidadMancha_verdadero_enfermo+probabilidadMancha_falso_enfermo))\n",
    "print(\"La probabilidad de que haya tenido la enfermedad es de:\",round((chance),4)*100, \"%\")"
   ]
  },
  {
   "cell_type": "code",
   "execution_count": null,
   "metadata": {},
   "outputs": [],
   "source": []
  }
 ],
 "metadata": {
  "kernelspec": {
   "display_name": "Python 3.10.6 64-bit",
   "language": "python",
   "name": "python3"
  },
  "language_info": {
   "codemirror_mode": {
    "name": "ipython",
    "version": 3
   },
   "file_extension": ".py",
   "mimetype": "text/x-python",
   "name": "python",
   "nbconvert_exporter": "python",
   "pygments_lexer": "ipython3",
   "version": "3.10.6"
  },
  "orig_nbformat": 4,
  "vscode": {
   "interpreter": {
    "hash": "b0fa6594d8f4cbf19f97940f81e996739fb7646882a419484c72d19e05852a7e"
   }
  }
 },
 "nbformat": 4,
 "nbformat_minor": 2
}
