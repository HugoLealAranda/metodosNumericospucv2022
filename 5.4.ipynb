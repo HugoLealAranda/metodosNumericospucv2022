{
 "cells": [
  {
   "cell_type": "markdown",
   "metadata": {},
   "source": [
    "$$\n",
    "TAREA-5.4\n",
    "$$"
   ]
  },
  {
   "cell_type": "code",
   "execution_count": 1,
   "metadata": {},
   "outputs": [
    {
     "name": "stdout",
     "output_type": "stream",
     "text": [
      "La probabilidad de que haya tenido la enfermedad es de: 42.86 %\n"
     ]
    }
   ],
   "source": [
    "probabilidadEnfermo=0.2\n",
    "probabilidadSano=0.8\n",
    "probabilidadFalso_enfermo=probabilidadSano*0.3\n",
    "probabilidadVerdadero_enfermo=probabilidadEnfermo*0.9\n",
    "probabilidadMancha_falso_enfermo=probabilidadFalso_enfermo*0.2\n",
    "probabilidadMancha_verdadero_enfermo=probabilidadVerdadero_enfermo*0.2\n",
    "chance=(probabilidadMancha_verdadero_enfermo/(probabilidadMancha_verdadero_enfermo+probabilidadMancha_falso_enfermo))\n",
    "print(\"La probabilidad de que haya tenido la enfermedad es de:\",round((chance),4)*100, \"%\")"
   ]
  },
  {
   "cell_type": "markdown",
   "metadata": {},
   "source": [
    "# Calificacion: 7.0"
   ]
  }
 ],
 "metadata": {
  "kernelspec": {
   "display_name": "Python 3",
   "language": "python",
   "name": "python3"
  },
  "language_info": {
   "codemirror_mode": {
    "name": "ipython",
    "version": 3
   },
   "file_extension": ".py",
   "mimetype": "text/x-python",
   "name": "python",
   "nbconvert_exporter": "python",
   "pygments_lexer": "ipython3",
   "version": "3.8.3"
  },
  "toc": {
   "base_numbering": 1,
   "nav_menu": {},
   "number_sections": true,
   "sideBar": true,
   "skip_h1_title": false,
   "title_cell": "Table of Contents",
   "title_sidebar": "Contents",
   "toc_cell": false,
   "toc_position": {},
   "toc_section_display": true,
   "toc_window_display": false
  },
  "vscode": {
   "interpreter": {
    "hash": "b0fa6594d8f4cbf19f97940f81e996739fb7646882a419484c72d19e05852a7e"
   }
  }
 },
 "nbformat": 4,
 "nbformat_minor": 2
}
