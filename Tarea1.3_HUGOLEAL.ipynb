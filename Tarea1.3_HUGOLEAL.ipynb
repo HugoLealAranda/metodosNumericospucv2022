{
 "cells": [
  {
   "cell_type": "code",
   "execution_count": 14,
   "metadata": {},
   "outputs": [
    {
     "name": "stdout",
     "output_type": "stream",
     "text": [
      "1\n",
      "1\n",
      "2\n"
     ]
    }
   ],
   "source": [
    "#Tarea 1.3\n",
    "#Corrija el siguiente código\n",
    "\n",
    "def fun(n):\n",
    "    return n #se cambio la x por la n debido a que la x no estaba definida como variable asi que no se podia llamar\n",
    "\n",
    "print(fun(1))\n",
    "\n",
    "#otra forma de arreglar el codigo es remplazar la n por la x y llamar x de esta forma: \n",
    "\n",
    "def fun(x):\n",
    "    return x \n",
    "\n",
    "print(fun(1))\n",
    "\n",
    "#usando las dos se pueden combinar pero se debe definir cada variable con su funcion antes. \n",
    "\n",
    "def fun1(x):\n",
    "    return x\n",
    "def fun2(n):\n",
    "    return n \n",
    "print(fun1(1)+fun2(1))\n"
   ]
  },
  {
   "cell_type": "code",
   "execution_count": null,
   "metadata": {},
   "outputs": [],
   "source": []
  },
  {
   "cell_type": "code",
   "execution_count": null,
   "metadata": {},
   "outputs": [],
   "source": []
  }
 ],
 "metadata": {
  "kernelspec": {
   "display_name": "Python 3.10.6 64-bit",
   "language": "python",
   "name": "python3"
  },
  "language_info": {
   "codemirror_mode": {
    "name": "ipython",
    "version": 3
   },
   "file_extension": ".py",
   "mimetype": "text/x-python",
   "name": "python",
   "nbconvert_exporter": "python",
   "pygments_lexer": "ipython3",
   "version": "3.10.6"
  },
  "orig_nbformat": 4,
  "vscode": {
   "interpreter": {
    "hash": "b0fa6594d8f4cbf19f97940f81e996739fb7646882a419484c72d19e05852a7e"
   }
  }
 },
 "nbformat": 4,
 "nbformat_minor": 2
}
