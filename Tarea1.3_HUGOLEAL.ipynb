{
 "cells": [
  {
   "cell_type": "code",
   "execution_count": 1,
   "metadata": {},
   "outputs": [
    {
     "name": "stdout",
     "output_type": "stream",
     "text": [
      "1\n",
      "1\n",
      "2\n"
     ]
    }
   ],
   "source": [
    "#Tarea 1.3\n",
    "#Corrija el siguiente código\n",
    "\n",
    "def fun(n):\n",
    "    return n #se cambio la x por la n debido a que la x no estaba definida como variable asi que no se podia llamar\n",
    "\n",
    "print(fun(1))\n",
    "\n",
    "#otra forma de arreglar el codigo es remplazar la n por la x y llamar x de esta forma: \n",
    "\n",
    "def fun(x):\n",
    "    return x \n",
    "\n",
    "print(fun(1))\n",
    "\n",
    "#usando las dos se pueden combinar pero se debe definir cada variable con su funcion antes. \n",
    "\n",
    "def fun1(x):\n",
    "    return x\n",
    "def fun2(n):\n",
    "    return n \n",
    "print(fun1(1)+fun2(1))\n"
   ]
  },
  {
   "cell_type": "markdown",
   "metadata": {},
   "source": [
    "# Calificacion 7.0"
   ]
  }
 ],
 "metadata": {
  "kernelspec": {
   "display_name": "Python 3",
   "language": "python",
   "name": "python3"
  },
  "language_info": {
   "codemirror_mode": {
    "name": "ipython",
    "version": 3
   },
   "file_extension": ".py",
   "mimetype": "text/x-python",
   "name": "python",
   "nbconvert_exporter": "python",
   "pygments_lexer": "ipython3",
   "version": "3.8.3"
  },
  "toc": {
   "base_numbering": 1,
   "nav_menu": {},
   "number_sections": true,
   "sideBar": true,
   "skip_h1_title": false,
   "title_cell": "Table of Contents",
   "title_sidebar": "Contents",
   "toc_cell": false,
   "toc_position": {},
   "toc_section_display": true,
   "toc_window_display": false
  },
  "vscode": {
   "interpreter": {
    "hash": "b0fa6594d8f4cbf19f97940f81e996739fb7646882a419484c72d19e05852a7e"
   }
  }
 },
 "nbformat": 4,
 "nbformat_minor": 2
}
