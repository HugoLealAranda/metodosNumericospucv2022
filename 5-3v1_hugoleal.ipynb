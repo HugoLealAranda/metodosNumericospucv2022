{
 "cells": [
  {
   "cell_type": "code",
   "execution_count": null,
   "metadata": {},
   "outputs": [],
   "source": [
    "#Este código calcula la probabilidad de obtener un número impar en un dado.\n",
    "#Los valores del dado se almacenan en una lista de listas, donde el primer elemento de cada lista interna\n",
    "#es el valor del dado y el segundo elemento es la probabilidad de obtener ese valor.\n",
    "#Se inicializa la variable \"chance\" en 0 para almacenar la probabilidad.\n",
    "#Se recorren los elementos de la lista de listas y se suma la probabilidad de obtener un valor impar. \n",
    "#Para ello se usa la siguiente formula: probabilidad*((2^valor)-1)/(2^valor).\n",
    "dado = [[1,0.1],[2,0.2],[3,0.2],[4,0.3],[5,0.1],[6,0.1]]\n",
    "chance = 0\n",
    "for i in dado:\n",
    "   if i[0]%2 == 1: #comprueba si el número es impar\n",
    "      chance+=(i[1]*((2**(i[0]))-1)/(2**(i[0]))) #calcula la probabilidad y la suma a la variable \"chance\"\n",
    "print(chance) #imprime el resultado"
   ]
  }
 ],
 "metadata": {
  "kernelspec": {
   "display_name": "Python 3.10.8 64-bit (microsoft store)",
   "language": "python",
   "name": "python3"
  },
  "language_info": {
   "name": "python",
   "version": "3.10.8"
  },
  "orig_nbformat": 4,
  "vscode": {
   "interpreter": {
    "hash": "a9dec94f1f8fd64a2a7e9091a4d23abfc42bf50116f37fead77524e004af2bb1"
   }
  }
 },
 "nbformat": 4,
 "nbformat_minor": 2
}
