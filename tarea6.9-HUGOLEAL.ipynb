{
 "cells": [
  {
   "cell_type": "code",
   "execution_count": 87,
   "metadata": {},
   "outputs": [
    {
     "name": "stdout",
     "output_type": "stream",
     "text": [
      "el valor aproximado por el metodo de biseccion, con la tolerancia deseada es de 3.141380644338022\n",
      "el valor aproximado por el metodo de punto fijo, con la tolerancia deseada es de 3.1413803607701674\n",
      "la diferencia de tiempo entre el metodo de punto medio y el de punto fijo es de 0.0002009868621826172 segundos\n"
     ]
    }
   ],
   "source": [
    "\n",
    "import time #se importa libreria time para contar tiempos\n",
    "\n",
    "def biseccion(f, a, b, epsilon, N=1000000): #definimos funcion biseccion\n",
    "    ti=time.time() #tomamos tiempo inicial\n",
    "    for i in range(N):   #se define el rango a iterar\n",
    "        p = a + (b - a)/2  #se define funcion punto medio\n",
    "        if abs(f(p)) < epsilon:  #se define el la condicion de corte\n",
    "            tf=time.time()  #toma de tiempo final\n",
    "            return [p**(1/3),tf-ti]  #se retorna funcion deseada y se anota tiempo total\n",
    "        elif f(p)*f(a) > 0:  #condicion para salir del bucle\n",
    "            a = p\n",
    "        else:                #condicional para cambiar el p para reducir el tamaño de busqueda\n",
    "            b = p\n",
    "    print(\"No se encontró el cero después de\", N, \"iteraciones.\")  #se imprimen valores buscados\n",
    "\n",
    "def func(x):                        #definimos la funcion que queremos aproximar con nuestro algoritmo biseccion\n",
    "    return (x**(1/3))-(31**(1/3))\n",
    "\n",
    "\n",
    "dato1=biseccion(func, 30,31, 10**(-8))      #se guarda el resultado de la funcion para usarlo despues\n",
    "print (\"el valor aproximado por el metodo de biseccion, con la tolerancia deseada es de\",dato1[0]) #imprimimos mensaje que muestra el valor aproximado buscado.\n",
    "\n",
    "def iter_func(g, po, epsilon, N=1000000): #definimos funcion punto fijo\n",
    "    ti=time.time() #tomamos tiempo inicial de nuestro algo.\n",
    "    for i in range(N): #definimos el rango a iterar\n",
    "        p = g(po)\n",
    "        if abs(p - po)/abs(po) < epsilon:  #condicion para salir del bucle\n",
    "            tf=time.time()                  #se toma tiempo final \n",
    "            return p**(1/3),tf-ti, i        #se rotorna valor deseado de la funcion\n",
    "        else:\n",
    "            po = p    # condicion para retornar P\n",
    "\n",
    "def gunc(x): #se define funcion g(x)\n",
    "    return abs(x-((x**(1/3))-(31**(1/3))))  #se tuvo que ajustar funcion f(x) para que se aplique al nuevo algoritmo.\n",
    "\n",
    "dato2=iter_func(gunc, 30, 10**(-8)) #se guarda la informacion improtante\n",
    "print (\"el valor aproximado por el metodo de punto fijo, con la tolerancia deseada es de\",dato2[0]) #imprime deseado\n",
    "print(\"la diferencia de tiempo entre el metodo de punto medio y el de punto fijo es de\",dato2[1]-dato1[1],\"segundos\") #se imprime deseado\n"
   ]
  },
  {
   "cell_type": "code",
   "execution_count": null,
   "metadata": {},
   "outputs": [],
   "source": []
  },
  {
   "cell_type": "code",
   "execution_count": null,
   "metadata": {},
   "outputs": [],
   "source": []
  }
 ],
 "metadata": {
  "kernelspec": {
   "display_name": "Python 3.10.6 64-bit",
   "language": "python",
   "name": "python3"
  },
  "language_info": {
   "codemirror_mode": {
    "name": "ipython",
    "version": 3
   },
   "file_extension": ".py",
   "mimetype": "text/x-python",
   "name": "python",
   "nbconvert_exporter": "python",
   "pygments_lexer": "ipython3",
   "version": "3.10.6"
  },
  "orig_nbformat": 4,
  "vscode": {
   "interpreter": {
    "hash": "b0fa6594d8f4cbf19f97940f81e996739fb7646882a419484c72d19e05852a7e"
   }
  }
 },
 "nbformat": 4,
 "nbformat_minor": 2
}
