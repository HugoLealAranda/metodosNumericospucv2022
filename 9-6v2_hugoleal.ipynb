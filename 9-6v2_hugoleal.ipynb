{
 "cells": [
  {
   "cell_type": "code",
   "execution_count": 5,
   "metadata": {},
   "outputs": [
    {
     "name": "stdout",
     "output_type": "stream",
     "text": [
      "Valor de la integral: 5.045642758743173\n"
     ]
    }
   ],
   "source": [
    "\n",
    "import numpy as np \n",
    "#Esta funcion integra una funcion f(x) con la cuadratura gaussiana compuesta\n",
    "def cuadratura_gaussiana_compuesta(f,a,b,n): #esta funcion define la cuadratura gaussiana compuesta, con los parámetros de la función a integrar (f) y los límites de la integral (a, b) y el número de pasos (n)\n",
    "    \n",
    "    x,w=np.polynomial.legendre.leggauss(n)  #genera los valores x y w para la cuadratura gaussiana compuesta\n",
    "    \n",
    "    h=(b-a)/n #calcula el paso h\n",
    "    \n",
    "    s=0 #inicializa la sumatoria\n",
    "    for i in range(n): #itera sobre los n pasos\n",
    "        c_i=a+(i+0.5)*h #calcula el centro de cada paso\n",
    "        s+=w[i]*f(c_i) #acumula la sumatoria\n",
    "    \n",
    "    integral=h*s #calcula el valor de la integral\n",
    "    \n",
    "    return integral #devuelve el valor de la integral\n",
    "\n",
    "def f(x): #define la función a integrar\n",
    "    return 2*x**2\n",
    "\n",
    "a=2 #asigna el valor de a\n",
    "b=3 #asigna el valor de b\n",
    "\n",
    "n=5 #asigna el valor de n\n",
    "\n",
    "valor_integral=cuadratura_gaussiana_compuesta(f,a,b,n) #calcula el valor de la integral\n",
    "print('Valor de la integral: ' + str(valor_integral)) #imprime el valor de la integral"
   ]
  },
  {
   "cell_type": "code",
   "execution_count": 2,
   "metadata": {},
   "outputs": [
    {
     "data": {
      "text/plain": [
       "12.666666666666666"
      ]
     },
     "execution_count": 2,
     "metadata": {},
     "output_type": "execute_result"
    }
   ],
   "source": [
    "2/3*(3**3 - 2**3)"
   ]
  },
  {
   "attachments": {},
   "cell_type": "markdown",
   "metadata": {},
   "source": [
    "# Calificación: 5.5"
   ]
  },
  {
   "attachments": {},
   "cell_type": "markdown",
   "metadata": {},
   "source": [
    "El código no funciona cuando se modifica el número de pasos."
   ]
  },
  {
   "cell_type": "code",
   "execution_count": null,
   "metadata": {},
   "outputs": [],
   "source": []
  }
 ],
 "metadata": {
  "kernelspec": {
   "display_name": "base",
   "language": "python",
   "name": "python3"
  },
  "language_info": {
   "codemirror_mode": {
    "name": "ipython",
    "version": 3
   },
   "file_extension": ".py",
   "mimetype": "text/x-python",
   "name": "python",
   "nbconvert_exporter": "python",
   "pygments_lexer": "ipython3",
   "version": "3.9.12"
  },
  "orig_nbformat": 4,
  "vscode": {
   "interpreter": {
    "hash": "ff1b15eee6eea6675cd8a103f478cf06927b2a1fed524422410333e11ae52555"
   }
  }
 },
 "nbformat": 4,
 "nbformat_minor": 2
}
