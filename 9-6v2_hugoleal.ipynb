{
 "cells": [
  {
   "cell_type": "code",
   "execution_count": 2,
   "metadata": {},
   "outputs": [
    {
     "name": "stdout",
     "output_type": "stream",
     "text": [
      "Valor de la integral: 12.625\n"
     ]
    }
   ],
   "source": [
    "\n",
    "import numpy as np \n",
    "#Esta funcion integra una funcion f(x) con la cuadratura gaussiana compuesta\n",
    "def cuadratura_gaussiana_compuesta(f,a,b,n): #esta funcion define la cuadratura gaussiana compuesta, con los parámetros de la función a integrar (f) y los límites de la integral (a, b) y el número de pasos (n)\n",
    "    \n",
    "    x,w=np.polynomial.legendre.leggauss(n)  #genera los valores x y w para la cuadratura gaussiana compuesta\n",
    "    \n",
    "    h=(b-a)/n #calcula el paso h\n",
    "    \n",
    "    s=0 #inicializa la sumatoria\n",
    "    for i in range(n): #itera sobre los n pasos\n",
    "        c_i=a+(i+0.5)*h #calcula el centro de cada paso\n",
    "        s+=w[i]*f(c_i) #acumula la sumatoria\n",
    "    \n",
    "    integral=h*s #calcula el valor de la integral\n",
    "    \n",
    "    return integral #devuelve el valor de la integral\n",
    "\n",
    "def f(x): #define la función a integrar\n",
    "    return 2*x**2\n",
    "\n",
    "a=2 #asigna el valor de a\n",
    "b=3 #asigna el valor de b\n",
    "\n",
    "n=2 #asigna el valor de n\n",
    "\n",
    "valor_integral=cuadratura_gaussiana_compuesta(f,a,b,n) #calcula el valor de la integral\n",
    "print('Valor de la integral: ' + str(valor_integral)) #imprime el valor de la integral"
   ]
  }
 ],
 "metadata": {
  "kernelspec": {
   "display_name": "Python 3.10.9 64-bit (microsoft store)",
   "language": "python",
   "name": "python3"
  },
  "language_info": {
   "codemirror_mode": {
    "name": "ipython",
    "version": 3
   },
   "file_extension": ".py",
   "mimetype": "text/x-python",
   "name": "python",
   "nbconvert_exporter": "python",
   "pygments_lexer": "ipython3",
   "version": "3.10.9"
  },
  "orig_nbformat": 4,
  "vscode": {
   "interpreter": {
    "hash": "a9dec94f1f8fd64a2a7e9091a4d23abfc42bf50116f37fead77524e004af2bb1"
   }
  }
 },
 "nbformat": 4,
 "nbformat_minor": 2
}
