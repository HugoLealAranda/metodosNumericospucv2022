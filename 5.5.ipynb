{
 "cells": [
  {
   "cell_type": "markdown",
   "metadata": {},
   "source": [
    "$$\n",
    "Tarea-5.5\n",
    "$$"
   ]
  },
  {
   "cell_type": "code",
   "execution_count": 14,
   "metadata": {},
   "outputs": [
    {
     "name": "stdout",
     "output_type": "stream",
     "text": [
      "0.002\n"
     ]
    }
   ],
   "source": [
    "import random\n",
    "\n",
    "def prob(evento, espacio):\n",
    "    return (len(evento & espacio)/len(espacio))\n",
    "\n",
    "def unir(color, numero):\n",
    "    return {color + str(n + 1) for n in range(numero)}\n",
    "    \n",
    "def diez_de_cada(evento):\n",
    "    s = [i[0] for i in evento]\n",
    "    return s.count('N') == 10 and s.count('M')== 10 and s.count('V') == 10\n",
    "\n",
    "pueblo = list(unir('V', 50) | unir('M', 30) | unir('N', 20))\n",
    "muestra_mc = {tuple(random.choices(pueblo, k = 30)) for i in range(1000)}\n",
    "treinta_personas = {e for e in muestra_mc if diez_de_cada(e)}\n",
    "print(prob(treinta_personas, muestra_mc))\n",
    "\n",
    "\n",
    "\n"
   ]
  },
  {
   "cell_type": "code",
   "execution_count": null,
   "metadata": {},
   "outputs": [],
   "source": []
  },
  {
   "cell_type": "code",
   "execution_count": null,
   "metadata": {},
   "outputs": [],
   "source": []
  }
 ],
 "metadata": {
  "kernelspec": {
   "display_name": "Python 3.10.6 64-bit",
   "language": "python",
   "name": "python3"
  },
  "language_info": {
   "codemirror_mode": {
    "name": "ipython",
    "version": 3
   },
   "file_extension": ".py",
   "mimetype": "text/x-python",
   "name": "python",
   "nbconvert_exporter": "python",
   "pygments_lexer": "ipython3",
   "version": "3.10.6"
  },
  "orig_nbformat": 4,
  "vscode": {
   "interpreter": {
    "hash": "b0fa6594d8f4cbf19f97940f81e996739fb7646882a419484c72d19e05852a7e"
   }
  }
 },
 "nbformat": 4,
 "nbformat_minor": 2
}
