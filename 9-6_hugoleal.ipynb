{
 "cells": [
  {
   "cell_type": "code",
   "execution_count": 2,
   "metadata": {},
   "outputs": [
    {
     "name": "stdout",
     "output_type": "stream",
     "text": [
      "Valor de la integral: 9.628906249999998\n"
     ]
    }
   ],
   "source": [
    "\n",
    "import numpy as np #Libreria para operaciones con arreglos\n",
    "\n",
    "#Esta funcion integra una funcion f(x) con la cuadratura gaussiana compuesta\n",
    "def cuadratura_gaussiana_compuesta(f,a,b,n):\n",
    "    \n",
    "    #Se obtienen los puntos y los pesos para la cuadratura gaussiana\n",
    "    x,w=np.polynomial.legendre.leggauss(n)\n",
    "    \n",
    "    #Se calcula el ancho de los subintervalos\n",
    "    h=(b-a)/n\n",
    "    \n",
    "    #Se calculan los centros de los subintervalos\n",
    "    c=a+h/2\n",
    "    \n",
    "    #Se calcula la suma de los valores de la funcion en los puntos x del subintervalo multiplicados por los pesos w\n",
    "    s=sum([w[i]*f(c+x[i]*h/2) for i in range(n)])\n",
    "    \n",
    "    #Se multiplica por el ancho de los subintervalos para obtener el valor de la integral\n",
    "    integral=h*s\n",
    "    \n",
    "    return integral\n",
    "\n",
    "#Ejemplo a continuacion\n",
    "#Se define la funcion a integrar\n",
    "def f(x):\n",
    "    return 2*x**3\n",
    "\n",
    "#Se define el rango de integracion\n",
    "a=2\n",
    "b=3\n",
    "\n",
    "#Se define el numero de subintervalos\n",
    "n=4\n",
    "\n",
    "#Se calcula el valor de la integral\n",
    "valor_integral=cuadratura_gaussiana_compuesta(f,a,b,n)\n",
    "\n",
    "#Se imprime el valor de la integral\n",
    "print('Valor de la integral: ' + str(valor_integral))"
   ]
  }
 ],
 "metadata": {
  "kernelspec": {
   "display_name": "Python 3.10.8 64-bit (microsoft store)",
   "language": "python",
   "name": "python3"
  },
  "language_info": {
   "codemirror_mode": {
    "name": "ipython",
    "version": 3
   },
   "file_extension": ".py",
   "mimetype": "text/x-python",
   "name": "python",
   "nbconvert_exporter": "python",
   "pygments_lexer": "ipython3",
   "version": "3.10.9"
  },
  "orig_nbformat": 4,
  "vscode": {
   "interpreter": {
    "hash": "a9dec94f1f8fd64a2a7e9091a4d23abfc42bf50116f37fead77524e004af2bb1"
   }
  }
 },
 "nbformat": 4,
 "nbformat_minor": 2
}
