{
 "cells": [
  {
   "cell_type": "markdown",
   "metadata": {},
   "source": [
    "$$\n",
    "TAREA - 5.3 -  Hugo Leal\n",
    "$$"
   ]
  },
  {
   "cell_type": "markdown",
   "metadata": {},
   "source": []
  },
  {
   "cell_type": "markdown",
   "metadata": {},
   "source": []
  },
  {
   "cell_type": "code",
   "execution_count": 42,
   "metadata": {},
   "outputs": [
    {
     "name": "stdout",
     "output_type": "stream",
     "text": [
      "0.321875\n"
     ]
    }
   ],
   "source": [
    "dado = [[1,0.1],[2,0.2],[3,0.2],[4,0.3],[5,0.1],[6,0.1]]\n",
    "chance = 0\n",
    "for i in dado:\n",
    "   if i[0]%2 == 1:\n",
    "      chance+=(i[1]*((2**(i[0]))-1)/(2**(i[0])))\n",
    "print(chance)\n"
   ]
  },
  {
   "cell_type": "markdown",
   "metadata": {},
   "source": [
    "# Calificación: 3.0"
   ]
  },
  {
   "cell_type": "markdown",
   "metadata": {},
   "source": [
    "No se incluyeron comentarios ni se explicó el código. (-2 puntos)\n",
    "\n",
    "Calculaste la probabilidad de que se obtuviera al menos una cara dado que el dado es impar. Se pedía lo contrario: La probabilidad de que el dado sea impar dado que se obtuvo al menos una cara."
   ]
  },
  {
   "cell_type": "markdown",
   "metadata": {},
   "source": []
  }
 ],
 "metadata": {
  "kernelspec": {
   "display_name": "Python 3",
   "language": "python",
   "name": "python3"
  },
  "language_info": {
   "codemirror_mode": {
    "name": "ipython",
    "version": 3
   },
   "file_extension": ".py",
   "mimetype": "text/x-python",
   "name": "python",
   "nbconvert_exporter": "python",
   "pygments_lexer": "ipython3",
   "version": "3.10.6 (main, Nov  2 2022, 18:53:38) [GCC 11.3.0]"
  },
  "orig_nbformat": 4,
  "vscode": {
   "interpreter": {
    "hash": "916dbcbb3f70747c44a77c7bcd40155683ae19c65e1c03b4aa3499c5328201f1"
   }
  }
 },
 "nbformat": 4,
 "nbformat_minor": 2
}
