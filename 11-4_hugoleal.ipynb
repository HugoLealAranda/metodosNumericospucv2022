{
 "cells": [
  {
   "cell_type": "code",
   "execution_count": 36,
   "metadata": {},
   "outputs": [
    {
     "name": "stdout",
     "output_type": "stream",
     "text": [
      "El agua luego de 10 minutos con h=20 s es: 602.7 m\n",
      "El tanque estará vacío en 9.666666666666666 minutos\n"
     ]
    }
   ],
   "source": [
    "\n",
    "# Importar librerías\n",
    "import numpy as np\n",
    "import matplotlib.pyplot as plt\n",
    "\n",
    "# Definir constantes\n",
    "r = 0.03  # Radio del orificio\n",
    "g = 9.81  # Gravedad\n",
    "H_0 = 2.7  # Altura inicial del líquido\n",
    "V_0 = 170 * np.pi / 3  # Volumen inicial del tanque\n",
    "\n",
    "# Definir la función\n",
    "def f(x, w):\n",
    "    A = np.pi * x**2  # Área de la sección transversal del cono\n",
    "    return -0.6 * np.pi * r**2 * np.sqrt(2 * g) * np.sqrt(x) / np.sqrt(A)\n",
    "\n",
    "# Definir el método de Runge-Kutta de orden 4\n",
    "def runge_kutta_4(f, x_0, w_0, h):\n",
    "    k_1 = h * f(x_0, w_0)\n",
    "    k_2 = h * f(x_0 + 0.5 * h, w_0 + 0.5 * k_1)\n",
    "    k_3 = h * f(x_0 + 0.5 * h, w_0 + 0.5 * k_2)\n",
    "    k_4 = h * f(x_0 + h, w_0 + k_3)\n",
    "    x_1 = x_0 + h\n",
    "    w_1 = w_0 + (1/6) * (k_1 + 2 * k_2 + 2 * k_3 + k_4)\n",
    "    return x_1, w_1\n",
    "\n",
    "# Definir el paso de tiempo\n",
    "h = 20  # 20 segundos\n",
    "\n",
    "# Definir los vectores de tiempo y altura\n",
    "t = np.arange(0, 10 * 60 + h, h)  # 10 minutos\n",
    "x = np.zeros(t.shape)\n",
    "x[0] = H_0\n",
    "\n",
    "# Definir el vector de volumen\n",
    "V = np.zeros(t.shape)\n",
    "V[0] = V_0\n",
    "\n",
    "# Aplicar el método de Runge-Kutta\n",
    "for i in range(t.size - 1):\n",
    "    x[i + 1], V[i + 1] = runge_kutta_4(f, x[i], V[i], h)\n",
    "    if x[i + 1] < 0:  # Si el nivel de agua es negativo, detener el cálculo\n",
    "        break\n",
    "\n",
    "# Imprimir los resultados\n",
    "print('El agua luego de 10 minutos con h=20 s es:', x[-1], 'm')\n",
    "print('El tanque estará vacío en', t[i] / 60, 'minutos')\n"
   ]
  },
  {
   "cell_type": "code",
   "execution_count": null,
   "metadata": {},
   "outputs": [],
   "source": []
  }
 ],
 "metadata": {
  "kernelspec": {
   "display_name": "Python 3.10.8 64-bit (microsoft store)",
   "language": "python",
   "name": "python3"
  },
  "language_info": {
   "codemirror_mode": {
    "name": "ipython",
    "version": 3
   },
   "file_extension": ".py",
   "mimetype": "text/x-python",
   "name": "python",
   "nbconvert_exporter": "python",
   "pygments_lexer": "ipython3",
   "version": "3.10.8"
  },
  "orig_nbformat": 4,
  "vscode": {
   "interpreter": {
    "hash": "a9dec94f1f8fd64a2a7e9091a4d23abfc42bf50116f37fead77524e004af2bb1"
   }
  }
 },
 "nbformat": 4,
 "nbformat_minor": 2
}
