{
 "cells": [
  {
   "cell_type": "code",
   "execution_count": 58,
   "metadata": {},
   "outputs": [
    {
     "name": "stdout",
     "output_type": "stream",
     "text": [
      "el valor obtenido para la funcion seno(2) es: 0.9079365079365079\n",
      "el error relativo obtenido es de: 0.0014966707801260235\n"
     ]
    }
   ],
   "source": [
    "from math import factorial #importamos la funcion factorial desde la libreria math\n",
    "from math import sin #importamos la funcion seno desde la libreria math\n",
    "n=0 #es el n correspondiente al inicio de la serie de Taylor\n",
    "factosen=0 #lo definimos como 0 que cumplira la funcion de acumulador\n",
    "valorReal=sin(2) #definimos el valor real de seno de 2 directamente con la funcion sin()\n",
    "errorRelativo=1 #se le asigna un valor 1 como punto de partida importante que sea mayor a 0,01\n",
    "while errorRelativo > 0.01: #definimos condicion para que corra la sumatoria\n",
    "    factosen+=(((-1)**n)*(2**((2*n)+1)))/(factorial((2*n)+1)) #definimos la formula para calcular la sumatoria\n",
    "    errorAbsoluto=abs(valorReal-factosen) #calculamos error absoluto cuidando que sea siempre positivo, se usa abs()\n",
    "    errorRelativo=errorAbsoluto/valorReal #calculamos error relativo \n",
    "    n+=1 #valor de control para que n cresca\n",
    "print(\"el valor obtenido para la funcion seno(2) es:\",factosen) #imprimimos respuesta\n",
    "print(\"el error relativo obtenido es de:\",errorRelativo) #imprimimos respuesta\n",
    "\n",
    "\n"
   ]
  },
  {
   "cell_type": "markdown",
   "metadata": {},
   "source": [
    "# Calificación: 7.0"
   ]
  },
  {
   "cell_type": "markdown",
   "metadata": {},
   "source": []
  }
 ],
 "metadata": {
  "kernelspec": {
   "display_name": "Python 3.8.5 ('base')",
   "language": "python",
   "name": "python3"
  },
  "language_info": {
   "codemirror_mode": {
    "name": "ipython",
    "version": 3
   },
   "file_extension": ".py",
   "mimetype": "text/x-python",
   "name": "python",
   "nbconvert_exporter": "python",
   "pygments_lexer": "ipython3",
   "version": "3.8.5"
  },
  "orig_nbformat": 4,
  "vscode": {
   "interpreter": {
    "hash": "717166dca5ba27c291ef89c0d672051d570f7fc5e24fe5207b8bf9e4bb58e673"
   }
  }
 },
 "nbformat": 4,
 "nbformat_minor": 2
}
